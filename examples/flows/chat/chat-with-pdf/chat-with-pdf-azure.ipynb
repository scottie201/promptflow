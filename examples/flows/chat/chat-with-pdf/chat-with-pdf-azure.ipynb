{
 "cells": [
  {
   "cell_type": "markdown",
   "metadata": {},
   "source": [
    "# Chat with PDF using Azure AI\n",
    "\n",
    "This is a simple flow that allow you to ask questions about the content of a PDF file and get answers.\n",
    "You can run the flow with a URL to a PDF file and question as argument.\n",
    "Once it's launched it will download the PDF and build an index of the content. \n",
    "Then when you ask a question, it will look up the index to retrieve relevant content and post the question with the relevant content to OpenAI chat model (gpt-3.5-turbo or gpt4) to get an answer.\n",
    "\n",
    "## 0. Install dependencies"
   ]
  },
  {
   "cell_type": "code",
   "execution_count": 1,
   "metadata": {},
   "outputs": [
    {
     "name": "stdout",
     "output_type": "stream",
     "text": [
      "Collecting PyPDF2 (from -r requirements.txt (line 1))\n",
      "  Downloading pypdf2-3.0.1-py3-none-any.whl.metadata (6.8 kB)\n",
      "Collecting faiss-cpu (from -r requirements.txt (line 2))\n",
      "  Downloading faiss_cpu-1.7.4-cp311-cp311-manylinux_2_17_x86_64.manylinux2014_x86_64.whl.metadata (1.3 kB)\n",
      "Requirement already satisfied: openai in /home/complete_excavation/anaconda3/lib/python3.11/site-packages (from -r requirements.txt (line 3)) (1.12.0)\n",
      "Requirement already satisfied: jinja2 in /home/complete_excavation/anaconda3/lib/python3.11/site-packages (from -r requirements.txt (line 4)) (3.1.2)\n",
      "Requirement already satisfied: python-dotenv in /home/complete_excavation/anaconda3/lib/python3.11/site-packages (from -r requirements.txt (line 5)) (1.0.1)\n",
      "Requirement already satisfied: tiktoken in /home/complete_excavation/anaconda3/lib/python3.11/site-packages (from -r requirements.txt (line 6)) (0.6.0)\n",
      "Requirement already satisfied: promptflow-tools in /home/complete_excavation/anaconda3/lib/python3.11/site-packages (from -r requirements.txt (line 8)) (1.2.0)\n",
      "Requirement already satisfied: promptflow[azure] in /home/complete_excavation/anaconda3/lib/python3.11/site-packages (from -r requirements.txt (line 7)) (1.5.0)\n",
      "Requirement already satisfied: anyio<5,>=3.5.0 in /home/complete_excavation/anaconda3/lib/python3.11/site-packages (from openai->-r requirements.txt (line 3)) (3.5.0)\n",
      "Requirement already satisfied: distro<2,>=1.7.0 in /home/complete_excavation/anaconda3/lib/python3.11/site-packages (from openai->-r requirements.txt (line 3)) (1.9.0)\n",
      "Requirement already satisfied: httpx<1,>=0.23.0 in /home/complete_excavation/anaconda3/lib/python3.11/site-packages (from openai->-r requirements.txt (line 3)) (0.26.0)\n",
      "Requirement already satisfied: pydantic<3,>=1.9.0 in /home/complete_excavation/anaconda3/lib/python3.11/site-packages (from openai->-r requirements.txt (line 3)) (1.10.8)\n",
      "Requirement already satisfied: sniffio in /home/complete_excavation/anaconda3/lib/python3.11/site-packages (from openai->-r requirements.txt (line 3)) (1.2.0)\n",
      "Requirement already satisfied: tqdm>4 in /home/complete_excavation/anaconda3/lib/python3.11/site-packages (from openai->-r requirements.txt (line 3)) (4.65.0)\n",
      "Requirement already satisfied: typing-extensions<5,>=4.7 in /home/complete_excavation/anaconda3/lib/python3.11/site-packages (from openai->-r requirements.txt (line 3)) (4.9.0)\n",
      "Requirement already satisfied: MarkupSafe>=2.0 in /home/complete_excavation/anaconda3/lib/python3.11/site-packages (from jinja2->-r requirements.txt (line 4)) (2.1.1)\n",
      "Requirement already satisfied: regex>=2022.1.18 in /home/complete_excavation/anaconda3/lib/python3.11/site-packages (from tiktoken->-r requirements.txt (line 6)) (2022.7.9)\n",
      "Requirement already satisfied: requests>=2.26.0 in /home/complete_excavation/anaconda3/lib/python3.11/site-packages (from tiktoken->-r requirements.txt (line 6)) (2.31.0)\n",
      "Requirement already satisfied: psutil in /home/complete_excavation/anaconda3/lib/python3.11/site-packages (from promptflow[azure]->-r requirements.txt (line 7)) (5.9.0)\n",
      "Requirement already satisfied: flask<4.0.0,>=2.2.3 in /home/complete_excavation/anaconda3/lib/python3.11/site-packages (from promptflow[azure]->-r requirements.txt (line 7)) (3.0.2)\n",
      "Requirement already satisfied: sqlalchemy<3.0.0,>=1.4.48 in /home/complete_excavation/anaconda3/lib/python3.11/site-packages (from promptflow[azure]->-r requirements.txt (line 7)) (2.0.27)\n",
      "Requirement already satisfied: pandas<3.0.0,>=1.5.3 in /home/complete_excavation/anaconda3/lib/python3.11/site-packages (from promptflow[azure]->-r requirements.txt (line 7)) (2.0.3)\n",
      "Requirement already satisfied: keyring<25.0.0,>=24.2.0 in /home/complete_excavation/anaconda3/lib/python3.11/site-packages (from promptflow[azure]->-r requirements.txt (line 7)) (24.3.0)\n",
      "Requirement already satisfied: pydash<8.0.0,>=6.0.0 in /home/complete_excavation/anaconda3/lib/python3.11/site-packages (from promptflow[azure]->-r requirements.txt (line 7)) (7.0.5)\n",
      "Requirement already satisfied: cryptography<42.0.0,>=41.0.3 in /home/complete_excavation/anaconda3/lib/python3.11/site-packages (from promptflow[azure]->-r requirements.txt (line 7)) (41.0.3)\n",
      "Requirement already satisfied: colorama<0.5.0,>=0.4.6 in /home/complete_excavation/anaconda3/lib/python3.11/site-packages (from promptflow[azure]->-r requirements.txt (line 7)) (0.4.6)\n",
      "Requirement already satisfied: tabulate<1.0.0,>=0.9.0 in /home/complete_excavation/anaconda3/lib/python3.11/site-packages (from promptflow[azure]->-r requirements.txt (line 7)) (0.9.0)\n",
      "Requirement already satisfied: filelock<4.0.0,>=3.4.0 in /home/complete_excavation/anaconda3/lib/python3.11/site-packages (from promptflow[azure]->-r requirements.txt (line 7)) (3.9.0)\n",
      "Requirement already satisfied: marshmallow<4.0.0,>=3.5 in /home/complete_excavation/anaconda3/lib/python3.11/site-packages (from promptflow[azure]->-r requirements.txt (line 7)) (3.20.2)\n",
      "Requirement already satisfied: gitpython<4.0.0,>=3.1.24 in /home/complete_excavation/anaconda3/lib/python3.11/site-packages (from promptflow[azure]->-r requirements.txt (line 7)) (3.1.42)\n",
      "Requirement already satisfied: strictyaml<2.0.0,>=1.5.0 in /home/complete_excavation/anaconda3/lib/python3.11/site-packages (from promptflow[azure]->-r requirements.txt (line 7)) (1.7.3)\n",
      "Requirement already satisfied: waitress<3.0.0,>=2.1.2 in /home/complete_excavation/anaconda3/lib/python3.11/site-packages (from promptflow[azure]->-r requirements.txt (line 7)) (2.1.2)\n",
      "Requirement already satisfied: opencensus-ext-azure<2.0.0 in /home/complete_excavation/anaconda3/lib/python3.11/site-packages (from promptflow[azure]->-r requirements.txt (line 7)) (1.1.13)\n",
      "Requirement already satisfied: ruamel.yaml<1.0.0,>=0.17.10 in /home/complete_excavation/anaconda3/lib/python3.11/site-packages (from promptflow[azure]->-r requirements.txt (line 7)) (0.17.21)\n",
      "Requirement already satisfied: pyarrow<15.0.0,>=14.0.1 in /home/complete_excavation/anaconda3/lib/python3.11/site-packages (from promptflow[azure]->-r requirements.txt (line 7)) (14.0.2)\n",
      "Requirement already satisfied: pillow<11.0.0,>=10.1.0 in /home/complete_excavation/anaconda3/lib/python3.11/site-packages (from promptflow[azure]->-r requirements.txt (line 7)) (10.2.0)\n",
      "Requirement already satisfied: filetype>=1.2.0 in /home/complete_excavation/anaconda3/lib/python3.11/site-packages (from promptflow[azure]->-r requirements.txt (line 7)) (1.2.0)\n",
      "Requirement already satisfied: jsonschema<5.0.0,>=4.0.0 in /home/complete_excavation/anaconda3/lib/python3.11/site-packages (from promptflow[azure]->-r requirements.txt (line 7)) (4.17.3)\n",
      "Requirement already satisfied: docutils in /home/complete_excavation/anaconda3/lib/python3.11/site-packages (from promptflow[azure]->-r requirements.txt (line 7)) (0.18.1)\n",
      "Requirement already satisfied: opentelemetry-exporter-otlp-proto-http<2.0.0,>=1.22.0 in /home/complete_excavation/anaconda3/lib/python3.11/site-packages (from promptflow[azure]->-r requirements.txt (line 7)) (1.22.0)\n",
      "Requirement already satisfied: flask-restx<2.0.0,>=1.2.0 in /home/complete_excavation/anaconda3/lib/python3.11/site-packages (from promptflow[azure]->-r requirements.txt (line 7)) (1.3.0)\n",
      "Requirement already satisfied: azure-core<2.0.0,>=1.26.4 in /home/complete_excavation/anaconda3/lib/python3.11/site-packages (from promptflow[azure]->-r requirements.txt (line 7)) (1.30.0)\n",
      "Requirement already satisfied: azure-storage-blob<13.0.0,>=12.13.0 in /home/complete_excavation/anaconda3/lib/python3.11/site-packages (from azure-storage-blob[aio]<13.0.0,>=12.13.0; extra == \"azure\"->promptflow[azure]->-r requirements.txt (line 7)) (12.19.0)\n",
      "Requirement already satisfied: azure-identity<2.0.0,>=1.12.0 in /home/complete_excavation/anaconda3/lib/python3.11/site-packages (from promptflow[azure]->-r requirements.txt (line 7)) (1.15.0)\n",
      "Requirement already satisfied: azure-ai-ml<2.0.0,>=1.11.0 in /home/complete_excavation/anaconda3/lib/python3.11/site-packages (from promptflow[azure]->-r requirements.txt (line 7)) (1.13.0)\n",
      "Requirement already satisfied: pyjwt<3.0.0,>=2.4.0 in /home/complete_excavation/anaconda3/lib/python3.11/site-packages (from promptflow[azure]->-r requirements.txt (line 7)) (2.4.0)\n",
      "Requirement already satisfied: google-search-results==2.4.1 in /home/complete_excavation/anaconda3/lib/python3.11/site-packages (from promptflow-tools->-r requirements.txt (line 8)) (2.4.1)\n",
      "Requirement already satisfied: idna>=2.8 in /home/complete_excavation/anaconda3/lib/python3.11/site-packages (from anyio<5,>=3.5.0->openai->-r requirements.txt (line 3)) (3.4)\n",
      "Requirement already satisfied: pyyaml<7.0.0,>=5.1.0 in /home/complete_excavation/anaconda3/lib/python3.11/site-packages (from azure-ai-ml<2.0.0,>=1.11.0->promptflow[azure]->-r requirements.txt (line 7)) (6.0)\n",
      "Requirement already satisfied: msrest>=0.6.18 in /home/complete_excavation/anaconda3/lib/python3.11/site-packages (from azure-ai-ml<2.0.0,>=1.11.0->promptflow[azure]->-r requirements.txt (line 7)) (0.7.1)\n",
      "Requirement already satisfied: azure-mgmt-core<2.0.0,>=1.3.0 in /home/complete_excavation/anaconda3/lib/python3.11/site-packages (from azure-ai-ml<2.0.0,>=1.11.0->promptflow[azure]->-r requirements.txt (line 7)) (1.4.0)\n",
      "Requirement already satisfied: azure-storage-file-share<13.0.0 in /home/complete_excavation/anaconda3/lib/python3.11/site-packages (from azure-ai-ml<2.0.0,>=1.11.0->promptflow[azure]->-r requirements.txt (line 7)) (12.15.0)\n",
      "Requirement already satisfied: azure-storage-file-datalake<13.0.0 in /home/complete_excavation/anaconda3/lib/python3.11/site-packages (from azure-ai-ml<2.0.0,>=1.11.0->promptflow[azure]->-r requirements.txt (line 7)) (12.14.0)\n",
      "Requirement already satisfied: isodate in /home/complete_excavation/anaconda3/lib/python3.11/site-packages (from azure-ai-ml<2.0.0,>=1.11.0->promptflow[azure]->-r requirements.txt (line 7)) (0.6.1)\n",
      "Requirement already satisfied: azure-common<2.0.0,>=1.1 in /home/complete_excavation/anaconda3/lib/python3.11/site-packages (from azure-ai-ml<2.0.0,>=1.11.0->promptflow[azure]->-r requirements.txt (line 7)) (1.1.28)\n",
      "Requirement already satisfied: six>=1.11.0 in /home/complete_excavation/anaconda3/lib/python3.11/site-packages (from azure-core<2.0.0,>=1.26.4->promptflow[azure]->-r requirements.txt (line 7)) (1.16.0)\n",
      "Requirement already satisfied: msal<2.0.0,>=1.24.0 in /home/complete_excavation/anaconda3/lib/python3.11/site-packages (from azure-identity<2.0.0,>=1.12.0->promptflow[azure]->-r requirements.txt (line 7)) (1.26.0)\n",
      "Requirement already satisfied: msal-extensions<2.0.0,>=0.3.0 in /home/complete_excavation/anaconda3/lib/python3.11/site-packages (from azure-identity<2.0.0,>=1.12.0->promptflow[azure]->-r requirements.txt (line 7)) (1.1.0)\n",
      "Requirement already satisfied: cffi>=1.12 in /home/complete_excavation/anaconda3/lib/python3.11/site-packages (from cryptography<42.0.0,>=41.0.3->promptflow[azure]->-r requirements.txt (line 7)) (1.15.1)\n",
      "Requirement already satisfied: Werkzeug>=3.0.0 in /home/complete_excavation/anaconda3/lib/python3.11/site-packages (from flask<4.0.0,>=2.2.3->promptflow[azure]->-r requirements.txt (line 7)) (3.0.1)\n",
      "Requirement already satisfied: itsdangerous>=2.1.2 in /home/complete_excavation/anaconda3/lib/python3.11/site-packages (from flask<4.0.0,>=2.2.3->promptflow[azure]->-r requirements.txt (line 7)) (2.1.2)\n",
      "Requirement already satisfied: click>=8.1.3 in /home/complete_excavation/anaconda3/lib/python3.11/site-packages (from flask<4.0.0,>=2.2.3->promptflow[azure]->-r requirements.txt (line 7)) (8.1.7)\n",
      "Requirement already satisfied: blinker>=1.6.2 in /home/complete_excavation/anaconda3/lib/python3.11/site-packages (from flask<4.0.0,>=2.2.3->promptflow[azure]->-r requirements.txt (line 7)) (1.7.0)\n",
      "Requirement already satisfied: aniso8601>=0.82 in /home/complete_excavation/anaconda3/lib/python3.11/site-packages (from flask-restx<2.0.0,>=1.2.0->promptflow[azure]->-r requirements.txt (line 7)) (9.0.1)\n",
      "Requirement already satisfied: pytz in /home/complete_excavation/anaconda3/lib/python3.11/site-packages (from flask-restx<2.0.0,>=1.2.0->promptflow[azure]->-r requirements.txt (line 7)) (2023.3.post1)\n",
      "Requirement already satisfied: importlib-resources in /home/complete_excavation/anaconda3/lib/python3.11/site-packages (from flask-restx<2.0.0,>=1.2.0->promptflow[azure]->-r requirements.txt (line 7)) (6.1.1)\n",
      "Requirement already satisfied: gitdb<5,>=4.0.1 in /home/complete_excavation/anaconda3/lib/python3.11/site-packages (from gitpython<4.0.0,>=3.1.24->promptflow[azure]->-r requirements.txt (line 7)) (4.0.11)\n",
      "Requirement already satisfied: certifi in /home/complete_excavation/anaconda3/lib/python3.11/site-packages (from httpx<1,>=0.23.0->openai->-r requirements.txt (line 3)) (2024.2.2)\n",
      "Requirement already satisfied: httpcore==1.* in /home/complete_excavation/anaconda3/lib/python3.11/site-packages (from httpx<1,>=0.23.0->openai->-r requirements.txt (line 3)) (1.0.3)\n",
      "Requirement already satisfied: h11<0.15,>=0.13 in /home/complete_excavation/anaconda3/lib/python3.11/site-packages (from httpcore==1.*->httpx<1,>=0.23.0->openai->-r requirements.txt (line 3)) (0.14.0)\n",
      "Requirement already satisfied: attrs>=17.4.0 in /home/complete_excavation/anaconda3/lib/python3.11/site-packages (from jsonschema<5.0.0,>=4.0.0->promptflow[azure]->-r requirements.txt (line 7)) (22.1.0)\n",
      "Requirement already satisfied: pyrsistent!=0.17.0,!=0.17.1,!=0.17.2,>=0.14.0 in /home/complete_excavation/anaconda3/lib/python3.11/site-packages (from jsonschema<5.0.0,>=4.0.0->promptflow[azure]->-r requirements.txt (line 7)) (0.18.0)\n",
      "Requirement already satisfied: jaraco.classes in /home/complete_excavation/anaconda3/lib/python3.11/site-packages (from keyring<25.0.0,>=24.2.0->promptflow[azure]->-r requirements.txt (line 7)) (3.2.1)\n",
      "Requirement already satisfied: importlib-metadata>=4.11.4 in /home/complete_excavation/anaconda3/lib/python3.11/site-packages (from keyring<25.0.0,>=24.2.0->promptflow[azure]->-r requirements.txt (line 7)) (6.0.0)\n",
      "Requirement already satisfied: SecretStorage>=3.2 in /home/complete_excavation/anaconda3/lib/python3.11/site-packages (from keyring<25.0.0,>=24.2.0->promptflow[azure]->-r requirements.txt (line 7)) (3.3.1)\n",
      "Requirement already satisfied: jeepney>=0.4.2 in /home/complete_excavation/anaconda3/lib/python3.11/site-packages (from keyring<25.0.0,>=24.2.0->promptflow[azure]->-r requirements.txt (line 7)) (0.7.1)\n",
      "Requirement already satisfied: packaging>=17.0 in /home/complete_excavation/anaconda3/lib/python3.11/site-packages (from marshmallow<4.0.0,>=3.5->promptflow[azure]->-r requirements.txt (line 7)) (23.1)\n",
      "Requirement already satisfied: opencensus<1.0.0,>=0.11.4 in /home/complete_excavation/anaconda3/lib/python3.11/site-packages (from opencensus-ext-azure<2.0.0->promptflow[azure]->-r requirements.txt (line 7)) (0.11.4)\n",
      "Requirement already satisfied: backoff<3.0.0,>=1.10.0 in /home/complete_excavation/anaconda3/lib/python3.11/site-packages (from opentelemetry-exporter-otlp-proto-http<2.0.0,>=1.22.0->promptflow[azure]->-r requirements.txt (line 7)) (2.2.1)\n",
      "Requirement already satisfied: deprecated>=1.2.6 in /home/complete_excavation/anaconda3/lib/python3.11/site-packages (from opentelemetry-exporter-otlp-proto-http<2.0.0,>=1.22.0->promptflow[azure]->-r requirements.txt (line 7)) (1.2.14)\n",
      "Requirement already satisfied: googleapis-common-protos~=1.52 in /home/complete_excavation/anaconda3/lib/python3.11/site-packages (from opentelemetry-exporter-otlp-proto-http<2.0.0,>=1.22.0->promptflow[azure]->-r requirements.txt (line 7)) (1.62.0)\n",
      "Requirement already satisfied: opentelemetry-api~=1.15 in /home/complete_excavation/anaconda3/lib/python3.11/site-packages (from opentelemetry-exporter-otlp-proto-http<2.0.0,>=1.22.0->promptflow[azure]->-r requirements.txt (line 7)) (1.22.0)\n",
      "Requirement already satisfied: opentelemetry-exporter-otlp-proto-common==1.22.0 in /home/complete_excavation/anaconda3/lib/python3.11/site-packages (from opentelemetry-exporter-otlp-proto-http<2.0.0,>=1.22.0->promptflow[azure]->-r requirements.txt (line 7)) (1.22.0)\n",
      "Requirement already satisfied: opentelemetry-proto==1.22.0 in /home/complete_excavation/anaconda3/lib/python3.11/site-packages (from opentelemetry-exporter-otlp-proto-http<2.0.0,>=1.22.0->promptflow[azure]->-r requirements.txt (line 7)) (1.22.0)\n",
      "Requirement already satisfied: opentelemetry-sdk~=1.22.0 in /home/complete_excavation/anaconda3/lib/python3.11/site-packages (from opentelemetry-exporter-otlp-proto-http<2.0.0,>=1.22.0->promptflow[azure]->-r requirements.txt (line 7)) (1.22.0)\n",
      "Requirement already satisfied: protobuf<5.0,>=3.19 in /home/complete_excavation/anaconda3/lib/python3.11/site-packages (from opentelemetry-proto==1.22.0->opentelemetry-exporter-otlp-proto-http<2.0.0,>=1.22.0->promptflow[azure]->-r requirements.txt (line 7)) (4.25.3)\n",
      "Requirement already satisfied: python-dateutil>=2.8.2 in /home/complete_excavation/anaconda3/lib/python3.11/site-packages (from pandas<3.0.0,>=1.5.3->promptflow[azure]->-r requirements.txt (line 7)) (2.8.2)\n",
      "Requirement already satisfied: tzdata>=2022.1 in /home/complete_excavation/anaconda3/lib/python3.11/site-packages (from pandas<3.0.0,>=1.5.3->promptflow[azure]->-r requirements.txt (line 7)) (2023.3)\n",
      "Requirement already satisfied: numpy>=1.21.0 in /home/complete_excavation/anaconda3/lib/python3.11/site-packages (from pandas<3.0.0,>=1.5.3->promptflow[azure]->-r requirements.txt (line 7)) (1.23.5)\n",
      "Requirement already satisfied: charset-normalizer<4,>=2 in /home/complete_excavation/anaconda3/lib/python3.11/site-packages (from requests>=2.26.0->tiktoken->-r requirements.txt (line 6)) (2.0.4)\n",
      "Requirement already satisfied: urllib3<3,>=1.21.1 in /home/complete_excavation/anaconda3/lib/python3.11/site-packages (from requests>=2.26.0->tiktoken->-r requirements.txt (line 6)) (1.26.16)\n",
      "Requirement already satisfied: greenlet!=0.4.17 in /home/complete_excavation/anaconda3/lib/python3.11/site-packages (from sqlalchemy<3.0.0,>=1.4.48->promptflow[azure]->-r requirements.txt (line 7)) (2.0.1)\n",
      "Requirement already satisfied: aiohttp>=3.0 in /home/complete_excavation/anaconda3/lib/python3.11/site-packages (from azure-core[aio]<2.0.0,>=1.28.0; extra == \"aio\"->azure-storage-blob[aio]<13.0.0,>=12.13.0; extra == \"azure\"->promptflow[azure]->-r requirements.txt (line 7)) (3.8.5)\n",
      "Requirement already satisfied: pycparser in /home/complete_excavation/anaconda3/lib/python3.11/site-packages (from cffi>=1.12->cryptography<42.0.0,>=41.0.3->promptflow[azure]->-r requirements.txt (line 7)) (2.21)\n",
      "Requirement already satisfied: wrapt<2,>=1.10 in /home/complete_excavation/anaconda3/lib/python3.11/site-packages (from deprecated>=1.2.6->opentelemetry-exporter-otlp-proto-http<2.0.0,>=1.22.0->promptflow[azure]->-r requirements.txt (line 7)) (1.14.1)\n",
      "Requirement already satisfied: smmap<6,>=3.0.1 in /home/complete_excavation/anaconda3/lib/python3.11/site-packages (from gitdb<5,>=4.0.1->gitpython<4.0.0,>=3.1.24->promptflow[azure]->-r requirements.txt (line 7)) (5.0.1)\n",
      "Requirement already satisfied: zipp>=0.5 in /home/complete_excavation/anaconda3/lib/python3.11/site-packages (from importlib-metadata>=4.11.4->keyring<25.0.0,>=24.2.0->promptflow[azure]->-r requirements.txt (line 7)) (3.11.0)\n",
      "Requirement already satisfied: portalocker<3,>=1.0 in /home/complete_excavation/anaconda3/lib/python3.11/site-packages (from msal-extensions<2.0.0,>=0.3.0->azure-identity<2.0.0,>=1.12.0->promptflow[azure]->-r requirements.txt (line 7)) (2.8.2)\n",
      "Requirement already satisfied: requests-oauthlib>=0.5.0 in /home/complete_excavation/anaconda3/lib/python3.11/site-packages (from msrest>=0.6.18->azure-ai-ml<2.0.0,>=1.11.0->promptflow[azure]->-r requirements.txt (line 7)) (1.3.0)\n",
      "Requirement already satisfied: opencensus-context>=0.1.3 in /home/complete_excavation/anaconda3/lib/python3.11/site-packages (from opencensus<1.0.0,>=0.11.4->opencensus-ext-azure<2.0.0->promptflow[azure]->-r requirements.txt (line 7)) (0.1.3)\n",
      "Requirement already satisfied: google-api-core<3.0.0,>=1.0.0 in /home/complete_excavation/anaconda3/lib/python3.11/site-packages (from opencensus<1.0.0,>=0.11.4->opencensus-ext-azure<2.0.0->promptflow[azure]->-r requirements.txt (line 7)) (2.17.1)\n",
      "Requirement already satisfied: opentelemetry-semantic-conventions==0.43b0 in /home/complete_excavation/anaconda3/lib/python3.11/site-packages (from opentelemetry-sdk~=1.22.0->opentelemetry-exporter-otlp-proto-http<2.0.0,>=1.22.0->promptflow[azure]->-r requirements.txt (line 7)) (0.43b0)\n",
      "Requirement already satisfied: more-itertools in /home/complete_excavation/anaconda3/lib/python3.11/site-packages (from jaraco.classes->keyring<25.0.0,>=24.2.0->promptflow[azure]->-r requirements.txt (line 7)) (8.12.0)\n",
      "Requirement already satisfied: multidict<7.0,>=4.5 in /home/complete_excavation/anaconda3/lib/python3.11/site-packages (from aiohttp>=3.0->azure-core[aio]<2.0.0,>=1.28.0; extra == \"aio\"->azure-storage-blob[aio]<13.0.0,>=12.13.0; extra == \"azure\"->promptflow[azure]->-r requirements.txt (line 7)) (6.0.2)\n",
      "Requirement already satisfied: async-timeout<5.0,>=4.0.0a3 in /home/complete_excavation/anaconda3/lib/python3.11/site-packages (from aiohttp>=3.0->azure-core[aio]<2.0.0,>=1.28.0; extra == \"aio\"->azure-storage-blob[aio]<13.0.0,>=12.13.0; extra == \"azure\"->promptflow[azure]->-r requirements.txt (line 7)) (4.0.2)\n",
      "Requirement already satisfied: yarl<2.0,>=1.0 in /home/complete_excavation/anaconda3/lib/python3.11/site-packages (from aiohttp>=3.0->azure-core[aio]<2.0.0,>=1.28.0; extra == \"aio\"->azure-storage-blob[aio]<13.0.0,>=12.13.0; extra == \"azure\"->promptflow[azure]->-r requirements.txt (line 7)) (1.8.1)\n",
      "Requirement already satisfied: frozenlist>=1.1.1 in /home/complete_excavation/anaconda3/lib/python3.11/site-packages (from aiohttp>=3.0->azure-core[aio]<2.0.0,>=1.28.0; extra == \"aio\"->azure-storage-blob[aio]<13.0.0,>=12.13.0; extra == \"azure\"->promptflow[azure]->-r requirements.txt (line 7)) (1.3.3)\n",
      "Requirement already satisfied: aiosignal>=1.1.2 in /home/complete_excavation/anaconda3/lib/python3.11/site-packages (from aiohttp>=3.0->azure-core[aio]<2.0.0,>=1.28.0; extra == \"aio\"->azure-storage-blob[aio]<13.0.0,>=12.13.0; extra == \"azure\"->promptflow[azure]->-r requirements.txt (line 7)) (1.2.0)\n",
      "Requirement already satisfied: google-auth<3.0.dev0,>=2.14.1 in /home/complete_excavation/anaconda3/lib/python3.11/site-packages (from google-api-core<3.0.0,>=1.0.0->opencensus<1.0.0,>=0.11.4->opencensus-ext-azure<2.0.0->promptflow[azure]->-r requirements.txt (line 7)) (2.28.0)\n",
      "Requirement already satisfied: oauthlib>=3.0.0 in /home/complete_excavation/anaconda3/lib/python3.11/site-packages (from requests-oauthlib>=0.5.0->msrest>=0.6.18->azure-ai-ml<2.0.0,>=1.11.0->promptflow[azure]->-r requirements.txt (line 7)) (3.2.2)\n",
      "Requirement already satisfied: cachetools<6.0,>=2.0.0 in /home/complete_excavation/anaconda3/lib/python3.11/site-packages (from google-auth<3.0.dev0,>=2.14.1->google-api-core<3.0.0,>=1.0.0->opencensus<1.0.0,>=0.11.4->opencensus-ext-azure<2.0.0->promptflow[azure]->-r requirements.txt (line 7)) (5.3.2)\n",
      "Requirement already satisfied: pyasn1-modules>=0.2.1 in /home/complete_excavation/anaconda3/lib/python3.11/site-packages (from google-auth<3.0.dev0,>=2.14.1->google-api-core<3.0.0,>=1.0.0->opencensus<1.0.0,>=0.11.4->opencensus-ext-azure<2.0.0->promptflow[azure]->-r requirements.txt (line 7)) (0.2.8)\n",
      "Requirement already satisfied: rsa<5,>=3.1.4 in /home/complete_excavation/anaconda3/lib/python3.11/site-packages (from google-auth<3.0.dev0,>=2.14.1->google-api-core<3.0.0,>=1.0.0->opencensus<1.0.0,>=0.11.4->opencensus-ext-azure<2.0.0->promptflow[azure]->-r requirements.txt (line 7)) (4.9)\n",
      "Requirement already satisfied: pyasn1<0.5.0,>=0.4.6 in /home/complete_excavation/anaconda3/lib/python3.11/site-packages (from pyasn1-modules>=0.2.1->google-auth<3.0.dev0,>=2.14.1->google-api-core<3.0.0,>=1.0.0->opencensus<1.0.0,>=0.11.4->opencensus-ext-azure<2.0.0->promptflow[azure]->-r requirements.txt (line 7)) (0.4.8)\n",
      "Downloading pypdf2-3.0.1-py3-none-any.whl (232 kB)\n",
      "\u001b[2K   \u001b[90m━━━━━━━━━━━━━━━━━━━━━━━━━━━━━━━━━━━━━━━━\u001b[0m \u001b[32m232.6/232.6 kB\u001b[0m \u001b[31m2.1 MB/s\u001b[0m eta \u001b[36m0:00:00\u001b[0ma \u001b[36m0:00:01\u001b[0m\n",
      "\u001b[?25hDownloading faiss_cpu-1.7.4-cp311-cp311-manylinux_2_17_x86_64.manylinux2014_x86_64.whl (17.6 MB)\n",
      "\u001b[2K   \u001b[90m━━━━━━━━━━━━━━━━━━━━━━━━━━━━━━━━━━━━━━━━\u001b[0m \u001b[32m17.6/17.6 MB\u001b[0m \u001b[31m7.4 MB/s\u001b[0m eta \u001b[36m0:00:00\u001b[0m00:01\u001b[0m00:01\u001b[0m\n",
      "\u001b[?25hInstalling collected packages: faiss-cpu, PyPDF2\n",
      "Successfully installed PyPDF2-3.0.1 faiss-cpu-1.7.4\n",
      "Note: you may need to restart the kernel to use updated packages.\n"
     ]
    }
   ],
   "source": [
    "%pip install -r requirements.txt"
   ]
  },
  {
   "cell_type": "markdown",
   "metadata": {},
   "source": [
    "# 1. Connect to Azure Machine Learning Workspace"
   ]
  },
  {
   "cell_type": "code",
   "execution_count": 2,
   "metadata": {},
   "outputs": [
    {
     "name": "stderr",
     "output_type": "stream",
     "text": [
      "DefaultAzureCredential failed to retrieve a token from the included credentials.\n",
      "Attempted credentials:\n",
      "\tEnvironmentCredential: EnvironmentCredential authentication unavailable. Environment variables are not fully configured.\n",
      "Visit https://aka.ms/azsdk/python/identity/environmentcredential/troubleshoot to troubleshoot this issue.\n",
      "\tManagedIdentityCredential: ManagedIdentityCredential authentication unavailable, no response from the IMDS endpoint.\n",
      "\tSharedTokenCacheCredential: SharedTokenCacheCredential authentication unavailable. No accounts were found in the cache.\n",
      "\tAzureCliCredential: Please run 'az login' to set up an account\n",
      "\tAzurePowerShellCredential: PowerShell is not installed\n",
      "\tAzureDeveloperCliCredential: Azure Developer CLI could not be found. Please visit https://aka.ms/azure-dev for installation instructions and then,once installed, authenticate to your Azure account using 'azd auth login'.\n",
      "To mitigate this issue, please refer to the troubleshooting guidelines here at https://aka.ms/azsdk/python/identity/defaultazurecredential/troubleshoot.\n"
     ]
    }
   ],
   "source": [
    "from azure.identity import DefaultAzureCredential, InteractiveBrowserCredential\n",
    "\n",
    "try:\n",
    "    credential = DefaultAzureCredential()\n",
    "    # Check if given credential can get token successfully.\n",
    "    credential.get_token(\"https://management.azure.com/.default\")\n",
    "except Exception as ex:\n",
    "    # Fall back to InteractiveBrowserCredential in case DefaultAzureCredential not work\n",
    "    credential = InteractiveBrowserCredential()"
   ]
  },
  {
   "cell_type": "markdown",
   "metadata": {},
   "source": [
    "## 1.1 Get familiar with the primary interface - PFClient"
   ]
  },
  {
   "cell_type": "code",
   "execution_count": 3,
   "metadata": {},
   "outputs": [
    {
     "ename": "ValidationException",
     "evalue": "We could not find config.json in: . or in its parent directories. Please provide the full path to the config file or ensure that config.json exists in the parent directories.",
     "output_type": "error",
     "traceback": [
      "\u001b[0;31m---------------------------------------------------------------------------\u001b[0m",
      "\u001b[0;31mValidationException\u001b[0m                       Traceback (most recent call last)",
      "Cell \u001b[0;32mIn[3], line 4\u001b[0m\n\u001b[1;32m      1\u001b[0m \u001b[38;5;28;01mimport\u001b[39;00m \u001b[38;5;21;01mpromptflow\u001b[39;00m\u001b[38;5;21;01m.\u001b[39;00m\u001b[38;5;21;01mazure\u001b[39;00m \u001b[38;5;28;01mas\u001b[39;00m \u001b[38;5;21;01mazure\u001b[39;00m\n\u001b[1;32m      3\u001b[0m \u001b[38;5;66;03m# Get a handle to workspace\u001b[39;00m\n\u001b[0;32m----> 4\u001b[0m pf \u001b[38;5;241m=\u001b[39m azure\u001b[38;5;241m.\u001b[39mPFClient\u001b[38;5;241m.\u001b[39mfrom_config(credential\u001b[38;5;241m=\u001b[39mcredential)\n",
      "File \u001b[0;32m~/anaconda3/lib/python3.11/site-packages/promptflow/azure/_pf_client.py:172\u001b[0m, in \u001b[0;36mPFClient.from_config\u001b[0;34m(cls, credential, path, file_name, **kwargs)\u001b[0m\n\u001b[1;32m    142\u001b[0m \u001b[38;5;129m@classmethod\u001b[39m\n\u001b[1;32m    143\u001b[0m \u001b[38;5;28;01mdef\u001b[39;00m \u001b[38;5;21mfrom_config\u001b[39m(\n\u001b[1;32m    144\u001b[0m     \u001b[38;5;28mcls\u001b[39m,\n\u001b[0;32m   (...)\u001b[0m\n\u001b[1;32m    149\u001b[0m     \u001b[38;5;241m*\u001b[39m\u001b[38;5;241m*\u001b[39mkwargs,\n\u001b[1;32m    150\u001b[0m ) \u001b[38;5;241m-\u001b[39m\u001b[38;5;241m>\u001b[39m \u001b[38;5;124m\"\u001b[39m\u001b[38;5;124mPFClient\u001b[39m\u001b[38;5;124m\"\u001b[39m:\n\u001b[1;32m    151\u001b[0m \u001b[38;5;250m    \u001b[39m\u001b[38;5;124;03m\"\"\"Return a PFClient object connected to Azure Machine Learning workspace.\u001b[39;00m\n\u001b[1;32m    152\u001b[0m \n\u001b[1;32m    153\u001b[0m \u001b[38;5;124;03m    Reads workspace configuration from a file. Throws an exception if the config file can't be found.\u001b[39;00m\n\u001b[0;32m   (...)\u001b[0m\n\u001b[1;32m    169\u001b[0m \u001b[38;5;124;03m    :type file_name: str\u001b[39;00m\n\u001b[1;32m    170\u001b[0m \u001b[38;5;124;03m    \"\"\"\u001b[39;00m\n\u001b[0;32m--> 172\u001b[0m     ml_client \u001b[38;5;241m=\u001b[39m MLClient\u001b[38;5;241m.\u001b[39mfrom_config(credential\u001b[38;5;241m=\u001b[39mcredential, path\u001b[38;5;241m=\u001b[39mpath, file_name\u001b[38;5;241m=\u001b[39mfile_name, \u001b[38;5;241m*\u001b[39m\u001b[38;5;241m*\u001b[39mkwargs)\n\u001b[1;32m    173\u001b[0m     \u001b[38;5;28;01mreturn\u001b[39;00m PFClient(\n\u001b[1;32m    174\u001b[0m         ml_client\u001b[38;5;241m=\u001b[39mml_client,\n\u001b[1;32m    175\u001b[0m         \u001b[38;5;241m*\u001b[39m\u001b[38;5;241m*\u001b[39mkwargs,\n\u001b[1;32m    176\u001b[0m     )\n",
      "File \u001b[0;32m~/anaconda3/lib/python3.11/site-packages/azure/ai/ml/_ml_client.py:737\u001b[0m, in \u001b[0;36mMLClient.from_config\u001b[0;34m(cls, credential, path, file_name, **kwargs)\u001b[0m\n\u001b[1;32m    731\u001b[0m     \u001b[38;5;28;01mif\u001b[39;00m \u001b[38;5;129;01mnot\u001b[39;00m found_path:\n\u001b[1;32m    732\u001b[0m         msg \u001b[38;5;241m=\u001b[39m (\n\u001b[1;32m    733\u001b[0m             \u001b[38;5;124m\"\u001b[39m\u001b[38;5;124mWe could not find config.json in: \u001b[39m\u001b[38;5;132;01m{}\u001b[39;00m\u001b[38;5;124m or in its parent directories. \u001b[39m\u001b[38;5;124m\"\u001b[39m\n\u001b[1;32m    734\u001b[0m             \u001b[38;5;124m\"\u001b[39m\u001b[38;5;124mPlease provide the full path to the config file or ensure that \u001b[39m\u001b[38;5;124m\"\u001b[39m\n\u001b[1;32m    735\u001b[0m             \u001b[38;5;124m\"\u001b[39m\u001b[38;5;124mconfig.json exists in the parent directories.\u001b[39m\u001b[38;5;124m\"\u001b[39m\n\u001b[1;32m    736\u001b[0m         )\n\u001b[0;32m--> 737\u001b[0m         \u001b[38;5;28;01mraise\u001b[39;00m ValidationException(\n\u001b[1;32m    738\u001b[0m             message\u001b[38;5;241m=\u001b[39mmsg\u001b[38;5;241m.\u001b[39mformat(path),\n\u001b[1;32m    739\u001b[0m             no_personal_data_message\u001b[38;5;241m=\u001b[39mmsg\u001b[38;5;241m.\u001b[39mformat(\u001b[38;5;124m\"\u001b[39m\u001b[38;5;124m[path]\u001b[39m\u001b[38;5;124m\"\u001b[39m),\n\u001b[1;32m    740\u001b[0m             target\u001b[38;5;241m=\u001b[39mErrorTarget\u001b[38;5;241m.\u001b[39mGENERAL,\n\u001b[1;32m    741\u001b[0m             error_category\u001b[38;5;241m=\u001b[39mErrorCategory\u001b[38;5;241m.\u001b[39mUSER_ERROR,\n\u001b[1;32m    742\u001b[0m         )\n\u001b[1;32m    744\u001b[0m subscription_id, resource_group, workspace_name \u001b[38;5;241m=\u001b[39m MLClient\u001b[38;5;241m.\u001b[39m_get_workspace_info(found_path)\n\u001b[1;32m    746\u001b[0m module_logger\u001b[38;5;241m.\u001b[39minfo(\u001b[38;5;124m\"\u001b[39m\u001b[38;5;124mFound the config file in: \u001b[39m\u001b[38;5;132;01m%s\u001b[39;00m\u001b[38;5;124m\"\u001b[39m, found_path)\n",
      "\u001b[0;31mValidationException\u001b[0m: We could not find config.json in: . or in its parent directories. Please provide the full path to the config file or ensure that config.json exists in the parent directories."
     ]
    }
   ],
   "source": [
    "import promptflow.azure as azure\n",
    "\n",
    "# Get a handle to workspace\n",
    "pf = azure.PFClient.from_config(credential=credential)"
   ]
  },
  {
   "cell_type": "markdown",
   "metadata": {},
   "source": [
    "## 1.2 Create necessary connections\n",
    "\n",
    "Connection in prompt flow is for managing settings of your application behaviors incl. how to talk to different services (Azure OpenAI for example).\n",
    "\n",
    "Prepare your Azure Open AI resource follow this [instruction](https://learn.microsoft.com/en-us/azure/cognitive-services/openai/how-to/create-resource?pivots=web-portal) and get your `api_key` if you don't have one.\n",
    "\n",
    "Please go to [workspace portal](https://ml.azure.com/), click `Prompt flow` -> `Connections` -> `Create`, then follow the instruction to create your own connections. \n",
    "Learn more on [connections](https://learn.microsoft.com/en-us/azure/machine-learning/prompt-flow/concept-connections?view=azureml-api-2)."
   ]
  },
  {
   "cell_type": "code",
   "execution_count": null,
   "metadata": {},
   "outputs": [],
   "source": [
    "conn_name = \"open_ai_connection\"\n",
    "\n",
    "# TODO integrate with azure.ai sdk\n",
    "# currently we only support create connection in Azure ML Studio UI\n",
    "# raise Exception(f\"Please create {conn_name} connection in Azure ML Studio.\")"
   ]
  },
  {
   "cell_type": "markdown",
   "metadata": {},
   "source": [
    "# 2. Run a flow with setting (context size 2K)"
   ]
  },
  {
   "cell_type": "code",
   "execution_count": null,
   "metadata": {},
   "outputs": [],
   "source": [
    "flow_path = \".\"\n",
    "data_path = \"./data/bert-paper-qna-3-line.jsonl\"\n",
    "\n",
    "config_2k_context = {\n",
    "    \"EMBEDDING_MODEL_DEPLOYMENT_NAME\": \"text-embedding-ada-002\",\n",
    "    \"CHAT_MODEL_DEPLOYMENT_NAME\": \"gpt-35-turbo\",\n",
    "    \"PROMPT_TOKEN_LIMIT\": 2000,\n",
    "    \"MAX_COMPLETION_TOKENS\": 256,\n",
    "    \"VERBOSE\": True,\n",
    "    \"CHUNK_SIZE\": 1024,\n",
    "    \"CHUNK_OVERLAP\": 32,\n",
    "}\n",
    "\n",
    "column_mapping = {\n",
    "    \"question\": \"${data.question}\",\n",
    "    \"pdf_url\": \"${data.pdf_url}\",\n",
    "    \"chat_history\": \"${data.chat_history}\",\n",
    "    \"config\": config_2k_context,\n",
    "}\n",
    "\n",
    "run_2k_context = pf.run(\n",
    "    flow=flow_path,\n",
    "    data=data_path,\n",
    "    column_mapping=column_mapping,\n",
    "    display_name=\"chat_with_pdf_2k_context\",\n",
    "    tags={\"chat_with_pdf\": \"\", \"1st_round\": \"\"},\n",
    ")\n",
    "pf.stream(run_2k_context)"
   ]
  },
  {
   "cell_type": "code",
   "execution_count": null,
   "metadata": {},
   "outputs": [],
   "source": [
    "print(run_2k_context)"
   ]
  },
  {
   "cell_type": "code",
   "execution_count": null,
   "metadata": {},
   "outputs": [],
   "source": [
    "detail = pf.get_details(run_2k_context)\n",
    "\n",
    "detail"
   ]
  },
  {
   "cell_type": "markdown",
   "metadata": {},
   "source": [
    "# 3. Evaluate the \"groundedness\"\n",
    "The [eval-groundedness flow](../../evaluation/eval-groundedness/) is using ChatGPT/GPT4 model to grade the answers generated by chat-with-pdf flow."
   ]
  },
  {
   "cell_type": "code",
   "execution_count": null,
   "metadata": {},
   "outputs": [],
   "source": [
    "eval_groundedness_flow_path = \"../../evaluation/eval-groundedness/\"\n",
    "eval_groundedness_2k_context = pf.run(\n",
    "    flow=eval_groundedness_flow_path,\n",
    "    run=run_2k_context,\n",
    "    column_mapping={\n",
    "        \"question\": \"${run.inputs.question}\",\n",
    "        \"answer\": \"${run.outputs.answer}\",\n",
    "        \"context\": \"${run.outputs.context}\",\n",
    "    },\n",
    "    display_name=\"eval_groundedness_2k_context\",\n",
    ")\n",
    "pf.stream(eval_groundedness_2k_context)\n",
    "\n",
    "print(eval_groundedness_2k_context)"
   ]
  },
  {
   "cell_type": "markdown",
   "metadata": {},
   "source": [
    "# 4. Try a different configuration and evaluate again - experimentation\n"
   ]
  },
  {
   "cell_type": "code",
   "execution_count": null,
   "metadata": {},
   "outputs": [],
   "source": [
    "flow_path = \".\"\n",
    "data_path = \"./data/bert-paper-qna-3-line.jsonl\"\n",
    "\n",
    "config_3k_context = {\n",
    "    \"EMBEDDING_MODEL_DEPLOYMENT_NAME\": \"text-embedding-ada-002\",\n",
    "    \"CHAT_MODEL_DEPLOYMENT_NAME\": \"gpt-35-turbo\",\n",
    "    \"PROMPT_TOKEN_LIMIT\": 3000,  # different from 2k context\n",
    "    \"MAX_COMPLETION_TOKENS\": 256,\n",
    "    \"VERBOSE\": True,\n",
    "    \"CHUNK_SIZE\": 1024,\n",
    "    \"CHUNK_OVERLAP\": 32,\n",
    "}\n",
    "\n",
    "column_mapping = {\n",
    "    \"question\": \"${data.question}\",\n",
    "    \"pdf_url\": \"${data.pdf_url}\",\n",
    "    \"chat_history\": \"${data.chat_history}\",\n",
    "    \"config\": config_3k_context,\n",
    "}\n",
    "run_3k_context = pf.run(\n",
    "    flow=flow_path,\n",
    "    data=data_path,\n",
    "    column_mapping=column_mapping,\n",
    "    display_name=\"chat_with_pdf_3k_context\",\n",
    "    tags={\"chat_with_pdf\": \"\", \"2nd_round\": \"\"},\n",
    ")\n",
    "pf.stream(run_3k_context)"
   ]
  },
  {
   "cell_type": "code",
   "execution_count": null,
   "metadata": {},
   "outputs": [],
   "source": [
    "print(run_3k_context)"
   ]
  },
  {
   "cell_type": "code",
   "execution_count": null,
   "metadata": {},
   "outputs": [],
   "source": [
    "detail = pf.get_details(run_3k_context)\n",
    "\n",
    "detail"
   ]
  },
  {
   "cell_type": "code",
   "execution_count": null,
   "metadata": {},
   "outputs": [],
   "source": [
    "eval_groundedness_3k_context = pf.run(\n",
    "    flow=eval_groundedness_flow_path,\n",
    "    run=run_3k_context,\n",
    "    column_mapping={\n",
    "        \"question\": \"${run.inputs.question}\",\n",
    "        \"answer\": \"${run.outputs.answer}\",\n",
    "        \"context\": \"${run.outputs.context}\",\n",
    "    },\n",
    "    display_name=\"eval_groundedness_3k_context\",\n",
    ")\n",
    "pf.stream(eval_groundedness_3k_context)\n",
    "\n",
    "print(eval_groundedness_3k_context)"
   ]
  },
  {
   "cell_type": "code",
   "execution_count": null,
   "metadata": {},
   "outputs": [],
   "source": [
    "pf.get_details(eval_groundedness_3k_context)"
   ]
  },
  {
   "cell_type": "code",
   "execution_count": null,
   "metadata": {},
   "outputs": [],
   "source": [
    "pf.visualize([eval_groundedness_2k_context, eval_groundedness_3k_context])"
   ]
  }
 ],
 "metadata": {
  "description": "A tutorial of chat-with-pdf flow that executes in Azure AI",
  "kernelspec": {
   "display_name": "prompt-flow",
   "language": "python",
   "name": "python3"
  },
  "language_info": {
   "codemirror_mode": {
    "name": "ipython",
    "version": 3
   },
   "file_extension": ".py",
   "mimetype": "text/x-python",
   "name": "python",
   "nbconvert_exporter": "python",
   "pygments_lexer": "ipython3",
   "version": "3.11.5"
  },
  "stage": "development"
 },
 "nbformat": 4,
 "nbformat_minor": 2
}
